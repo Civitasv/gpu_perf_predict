{
 "cells": [
  {
   "cell_type": "code",
   "execution_count": 5,
   "metadata": {
    "collapsed": false
   },
   "outputs": [
    {
     "name": "stdout",
     "output_type": "stream",
     "text": [
      "[  1.00000000e+00   1.01020729e-12]\n",
      "[  1.00000000e+00   8.12080060e-14]\n"
     ]
    }
   ],
   "source": [
    "import matplotlib.pyplot as plt\n",
    "\n",
    "from sklearn import datasets\n",
    "from sklearn.decomposition import PCA\n",
    "from sklearn.decomposition import RandomizedPCA\n",
    "\n",
    "from sklearn.discriminant_analysis import LinearDiscriminantAnalysis\n",
    "\n",
    "\n",
    "import pandas as pd\n",
    "import numpy as np\n",
    "\n",
    "dfTemp = pd.read_csv('./ML-model/Data-AppGPU3X.csv', na_values=\" NaN\")\n",
    "\n",
    "dfTemp = dfTemp.dropna(axis='rows', how='any')\n",
    "\n",
    "df = dfTemp._get_numeric_data()\n",
    "#df\n",
    "\n",
    "\n",
    "X = np.array(df[['Global.Store.Transactions', 'Global.Store.Transactions.Per.Request', \n",
    "                 'Global.Store.Transactions', 'Global.Store.Transactions.Per.Request']]).astype(int)\n",
    "y = np.array(df['Duration']).astype(int)\n",
    "\n",
    "\n",
    "target_names = ['Global.Store.Transactions', 'Global.Store.Transactions.Per.Request', \n",
    "                 'Global.Store.Transactions', 'Global.Store.Transactions.Per.Request']\n",
    "\n",
    "#np.array(y).astype(int)\n",
    "\n",
    "pca = PCA(n_components=2)\n",
    "X_r = pca.fit(X, y).transform(X)\n",
    "\n",
    "# Percentage of variance explained for each components\n",
    "print(pca.explained_variance_ratio_)\n",
    "\n",
    "pca = RandomizedPCA(n_components=2)\n",
    "pca.fit(X) \n",
    "print(pca.explained_variance_ratio_) \n"
   ]
  },
  {
   "cell_type": "code",
   "execution_count": null,
   "metadata": {
    "collapsed": true
   },
   "outputs": [],
   "source": []
  }
 ],
 "metadata": {
  "kernelspec": {
   "display_name": "Python 2",
   "language": "python",
   "name": "python2"
  },
  "language_info": {
   "codemirror_mode": {
    "name": "ipython",
    "version": 2
   },
   "file_extension": ".py",
   "mimetype": "text/x-python",
   "name": "python",
   "nbconvert_exporter": "python",
   "pygments_lexer": "ipython2",
   "version": "2.7.11"
  }
 },
 "nbformat": 4,
 "nbformat_minor": 0
}
